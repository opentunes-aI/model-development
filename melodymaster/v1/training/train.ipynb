{
 "cells": [
  {
   "cell_type": "markdown",
   "metadata": {},
   "source": [
    "# 🎵 MelodyMaster V1 Training\n",
    "\n",
    "[![Open In Colab](https://colab.research.google.com/assets/colab-badge.svg)](https://colab.research.google.com/github/opentunesai/model-development/blob/main/melodymaster/v1/training/train.ipynb)\n",
    "\n",
    "Fine-tuning MusicGen Melody model on MusicCaps dataset. This notebook works in both local Jupyter and Google Colab environments."
   ]
  },
  {
   "cell_type": "markdown",
   "metadata": {},
   "source": [
    "## Environment Setup"
   ]
  },
  {
   "cell_type": "code",
   "execution_count": null,
   "metadata": {},
   "source": [
    "import sys\n",
    "IN_COLAB = 'google.colab' in sys.modules\n",
    "\n",
    "if IN_COLAB:\n",
    "    print(\"Running in Google Colab\")\n",
    "    # Install dependencies in Colab\n",
    "    !pip install transformers datasets torch accelerate pyyaml -q\n",
    "    \n",
    "    # Optional: Mount Google Drive if needed\n",
    "    from google.colab import drive\n",
    "    # Uncomment to mount drive\n",
    "    # drive.mount('/content/drive')\n",
    "    \n",
    "    # Check GPU\n",
    "    !nvidia-smi\n",
    "else:\n",
    "    print(\"Running locally\")\n",
    "    # Local dependencies should be installed in the environment"
   ]
  },
  {
   "cell_type": "markdown",
   "metadata": {},
   "source": [
    "## Import Dependencies"
   ]
  },
  {
   "cell_type": "code",
   "execution_count": null,
   "metadata": {},
   "source": [
    "import torch\n",
    "import yaml\n",
    "from transformers import AutoModelForCausalLM, AutoProcessor\n",
    "from datasets import load_dataset\n",
    "from accelerate import Accelerator\n",
    "from huggingface_hub import login\n",
    "\n",
    "print(f\"PyTorch version: {torch.__version__}\")\n",
    "print(f\"CUDA available: {torch.cuda.is_available()}\")\n",
    "if torch.cuda.is_available():\n",
    "    print(f\"CUDA device: {torch.cuda.get_device_name(0)}\")"
   ]
  },
  {
   "cell_type": "markdown",
   "metadata": {},
   "source": [
    "## HuggingFace Authentication"
   ]
  },
  {
   "cell_type": "code",
   "execution_count": null,
   "metadata": {},
   "source": [
    "# Enter your token in the next cell and run this\n",
    "def setup_hf_auth(token):\n",
    "    login(token=token)\n",
    "    print(\"Successfully logged in to Hugging Face!\")"
   ]
  },
  {
   "cell_type": "code",
   "execution_count": null,
   "metadata": {},
   "source": [
    "# Enter your HF token here\n",
    "HF_TOKEN = \"your_token_here\"  # Replace with your token\n",
    "setup_hf_auth(HF_TOKEN)"
   ]
  },
  {
   "cell_type": "markdown",
   "metadata": {},
   "source": [
    "## Load Configuration"
   ]
  },
  {
   "cell_type": "code",
   "execution_count": null,
   "metadata": {},
   "source": [
    "# Load config based on environment\n",
